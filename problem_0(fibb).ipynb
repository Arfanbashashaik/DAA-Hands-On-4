{
  "nbformat": 4,
  "nbformat_minor": 0,
  "metadata": {
    "colab": {
      "provenance": [],
      "authorship_tag": "ABX9TyPz8XCHIzI7fDClaHXfJANA",
      "include_colab_link": true
    },
    "kernelspec": {
      "name": "python3",
      "display_name": "Python 3"
    },
    "language_info": {
      "name": "python"
    }
  },
  "cells": [
    {
      "cell_type": "markdown",
      "metadata": {
        "id": "view-in-github",
        "colab_type": "text"
      },
      "source": [
        "<a href=\"https://colab.research.google.com/github/Arfanbashashaik/DAA-Hands-On-4/blob/main/problem_0(fibb).ipynb\" target=\"_parent\"><img src=\"https://colab.research.google.com/assets/colab-badge.svg\" alt=\"Open In Colab\"/></a>"
      ]
    },
    {
      "cell_type": "code",
      "execution_count": 1,
      "metadata": {
        "colab": {
          "base_uri": "https://localhost:8080/"
        },
        "id": "lJWq1Sv2VDbp",
        "outputId": "c76df8d3-c803-4fc8-802a-d9bc48c4d733"
      },
      "outputs": [
        {
          "output_type": "stream",
          "name": "stdout",
          "text": [
            "fibonacci(5)->fibonacci(4)+fibonacci(3)\n",
            "    fibonacci(4)->fibonacci(3)+fibonacci(2)\n",
            "        fibonacci(3)->fibonacci(2)+fibonacci(1)\n",
            "            fibonacci(2)->fibonacci(1)+fibonacci(0)\n",
            "                fibonacci(1)\n",
            "                fibonacci(0)\n",
            "            fibonacci(1)\n",
            "        fibonacci(2)->fibonacci(1)+fibonacci(0)\n",
            "            fibonacci(1)\n",
            "            fibonacci(0)\n",
            "    fibonacci(3)->fibonacci(2)+fibonacci(1)\n",
            "        fibonacci(2)->fibonacci(1)+fibonacci(0)\n",
            "            fibonacci(1)\n",
            "            fibonacci(0)\n",
            "        fibonacci(1)\n",
            "fibonacci(5)= 5\n"
          ]
        }
      ],
      "source": [
        "def fibonacci(n):\n",
        "    if n == 0:\n",
        "        return 0\n",
        "    elif n == 1:\n",
        "        return 1\n",
        "    else:\n",
        "        return fibonacci(n-1)+fibonacci(n-2)\n",
        "def display_call_stack(n, prefix=\"\"):\n",
        "    if n == 0:\n",
        "        print(prefix +\"fibonacci(0)\")\n",
        "    elif n == 1:\n",
        "        print(prefix +\"fibonacci(1)\")\n",
        "    else:\n",
        "        print(prefix+f\"fibonacci({n})->fibonacci({n-1})+fibonacci({n-2})\")\n",
        "        display_call_stack(n-1,prefix + \"    \")\n",
        "        display_call_stack(n-2,prefix + \"    \")\n",
        "display_call_stack(5)\n",
        "print(\"fibonacci(5)=\",fibonacci(5))\n"
      ]
    },
    {
      "cell_type": "markdown",
      "source": [],
      "metadata": {
        "id": "x6FchnxcVXKg"
      }
    }
  ]
}