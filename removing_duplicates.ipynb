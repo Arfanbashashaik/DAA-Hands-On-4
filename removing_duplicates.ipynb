{
  "nbformat": 4,
  "nbformat_minor": 0,
  "metadata": {
    "colab": {
      "provenance": [],
      "authorship_tag": "ABX9TyNKyiElUsh2Ozp9zes3Fupo",
      "include_colab_link": true
    },
    "kernelspec": {
      "name": "python3",
      "display_name": "Python 3"
    },
    "language_info": {
      "name": "python"
    }
  },
  "cells": [
    {
      "cell_type": "markdown",
      "metadata": {
        "id": "view-in-github",
        "colab_type": "text"
      },
      "source": [
        "<a href=\"https://colab.research.google.com/github/Arfanbashashaik/DAA-Hands-On-4/blob/main/removing_duplicates.ipynb\" target=\"_parent\"><img src=\"https://colab.research.google.com/assets/colab-badge.svg\" alt=\"Open In Colab\"/></a>"
      ]
    },
    {
      "cell_type": "code",
      "source": [
        "def filter_duplicates(arr):\n",
        "    if not arr:\n",
        "        return []\n",
        "    unique_index=0\n",
        "    for j in range(1,len(arr)):\n",
        "        if arr[j]!=arr[unique_index]:\n",
        "            unique_index+=1\n",
        "            arr[unique_index]=arr[j]\n",
        "    return arr[:unique_index + 1]\n",
        "\n",
        "array1 = [2, 2, 2, 2, 2]\n",
        "array2 = [1, 2, 2, 3, 4, 4, 4, 5, 5]\n",
        "\n",
        "print(filter_duplicates(array1))  #Output:[2]\n",
        "print(filter_duplicates(array2))  #Output:[1,2,3,4,5]\n"
      ],
      "metadata": {
        "colab": {
          "base_uri": "https://localhost:8080/"
        },
        "id": "g81L72KLAQKW",
        "outputId": "39ff4a26-c2e2-4f28-a6a8-f9fabff11847"
      },
      "execution_count": 26,
      "outputs": [
        {
          "output_type": "stream",
          "name": "stdout",
          "text": [
            "[2]\n",
            "[1, 2, 3, 4, 5]\n"
          ]
        }
      ]
    },
    {
      "cell_type": "markdown",
      "source": [
        "TIME COMPLEXITY:THE The time complexity is O(n).Where n is the length of the input and where as it itereates to the array once. The final operation also takes the Time complexity-O(n) in the worst case but overall it remains linear.\n",
        "\n",
        "The loop runs O(n) times and each iteration is O(1).\n",
        "\n",
        "---\n",
        "\n"
      ],
      "metadata": {
        "id": "_yxk13J7WwrW"
      }
    },
    {
      "cell_type": "markdown",
      "source": [
        "IMPROVEMENTS:\n",
        "This algorithm already very effective with time complexity-O(n).to enhance performance.We could use different search techniques.\n"
      ],
      "metadata": {
        "id": "NAQHOaTMYsLT"
      }
    },
    {
      "cell_type": "markdown",
      "source": [],
      "metadata": {
        "id": "1F__LeHhYsH8"
      }
    }
  ]
}