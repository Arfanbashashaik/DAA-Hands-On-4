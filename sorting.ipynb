{
  "nbformat": 4,
  "nbformat_minor": 0,
  "metadata": {
    "colab": {
      "provenance": [],
      "authorship_tag": "ABX9TyPgjORvaL3FeLDpMeK5GNP5",
      "include_colab_link": true
    },
    "kernelspec": {
      "name": "python3",
      "display_name": "Python 3"
    },
    "language_info": {
      "name": "python"
    }
  },
  "cells": [
    {
      "cell_type": "markdown",
      "metadata": {
        "id": "view-in-github",
        "colab_type": "text"
      },
      "source": [
        "<a href=\"https://colab.research.google.com/github/Arfanbashashaik/DAA-Hands-On-4/blob/main/sorting.ipynb\" target=\"_parent\"><img src=\"https://colab.research.google.com/assets/colab-badge.svg\" alt=\"Open In Colab\"/></a>"
      ]
    },
    {
      "cell_type": "markdown",
      "source": [
        "Given K sorted arrays of size N each, the task is to merge them all maintaining their sorted order."
      ],
      "metadata": {
        "id": "-nuFrRNMUFJ7"
      }
    },
    {
      "cell_type": "code",
      "execution_count": 1,
      "metadata": {
        "colab": {
          "base_uri": "https://localhost:8080/"
        },
        "id": "ZiKnIVCpT1EG",
        "outputId": "60a4e199-1982-44b5-dd08-4b1a80390f8a"
      },
      "outputs": [
        {
          "output_type": "stream",
          "name": "stdout",
          "text": [
            "[ 1  2  3  4  7  8  9 10 11]\n"
          ]
        }
      ],
      "source": [
        "import numpy as np\n",
        "def merge_sorted_arrays(*arrays):\n",
        "    merged_array=[]\n",
        "    pointers = [0]*len(arrays)\n",
        "    while True:\n",
        "        min_element = int('information')\n",
        "        min_idx = None\n",
        "        for k, array in len(arrays):\n",
        "            if pointers[k]<len(array):\n",
        "              element = arrays[k][pointers[k]]\n",
        "              if min_element is None or element < min_element:\n",
        "                    min_element=element\n",
        "                    min_idx = k\n",
        "        if min_idx is None:\n",
        "            break\n",
        "        merged_array.append(min_element)\n",
        "        pointers[min_idx]+=1\n",
        "    return merged_array\n",
        "arrA = [1, 3, 7]\n",
        "arrB = [2, 4, 8]\n",
        "arrC = [9, 10, 11]\n",
        "merged = np.concatenate([arrA, arrB, arrC])\n",
        "sorted_merged = np.sort(merged)\n",
        "print(sorted_merged)"
      ]
    },
    {
      "cell_type": "markdown",
      "source": [
        "Time complexity:Merge Function Time Complexity: 𝑂(𝑘𝑛)\n",
        "\n",
        "Using NumPy for Concatenation and Sorting: O(knlog(kn))"
      ],
      "metadata": {
        "id": "Ulm16L-yUEDF"
      }
    }
  ]
}